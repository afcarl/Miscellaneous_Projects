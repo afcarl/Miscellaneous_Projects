{
 "cells": [
  {
   "cell_type": "code",
   "execution_count": 75,
   "metadata": {
    "collapsed": true
   },
   "outputs": [],
   "source": [
    "# Do all imports\n",
    "import numpy as np\n",
    "import cv2\n",
    "import os\n",
    "import matplotlib.pyplot as plt\n",
    "import glob\n",
    "import os"
   ]
  },
  {
   "cell_type": "code",
   "execution_count": 76,
   "metadata": {
    "collapsed": true
   },
   "outputs": [],
   "source": [
    "def mse(imageA, imageB):\n",
    "    err = np.sum((imageA.astype(\"float\") - imageB.astype(\"float\")) ** 2)\n",
    "    err /= float(imageA.shape[0] * imageA.shape[1])\n",
    "\n",
    "    # return the MSE, the lower the error, the more \"similar\"\n",
    "    # the two images are\n",
    "    return err"
   ]
  },
  {
   "cell_type": "code",
   "execution_count": 77,
   "metadata": {
    "collapsed": false
   },
   "outputs": [
    {
     "name": "stdout",
     "output_type": "stream",
     "text": [
      "((1080L, 1920L, 3L), 6220800, dtype('uint8'))\n"
     ]
    },
    {
     "data": {
      "text/plain": [
       "-1"
      ]
     },
     "execution_count": 77,
     "metadata": {},
     "output_type": "execute_result"
    }
   ],
   "source": [
    "# Point to your screen shot\n",
    "os.chdir(r\"C:\\Users\\anima\\Documents\\Kaggle\\dota2\")\n",
    "#filename =  \"det_img.jpg\"\n",
    "#filename = \"det_img4.jpg\"\n",
    "filename = \"det_img5.jpg\"\n",
    "img_orig= cv2.imread(filename)\n",
    "img = cv2.resize(img_orig,(1920, 1080))\n",
    "print(img.shape, img.size, img.dtype)\n",
    "# Crop the top 20%\n",
    "# Note opencv represents as Y,X or height, width\n",
    "height, width = img.shape[:2]\n",
    "cropped = img[:int(0.2*height), :]\n",
    "cv2.imshow('image1',cropped)\n",
    "cv2.waitKey(0)"
   ]
  },
  {
   "cell_type": "code",
   "execution_count": 78,
   "metadata": {
    "collapsed": true
   },
   "outputs": [],
   "source": [
    "# Create a few copies of the cropped image\n",
    "base_img1 = cropped.copy()\n",
    "base_img2 = cropped.copy()\n",
    "ov_ht, ov_wid = base_img1.shape[:2]"
   ]
  },
  {
   "cell_type": "code",
   "execution_count": 79,
   "metadata": {
    "collapsed": false
   },
   "outputs": [],
   "source": [
    "radiant=[]\n",
    "dire= []\n",
    "cwd = os.getcwd()\n",
    "path2 = os.path.join(cwd,'heroes')\n",
    "new_path = os.path.join(path2,\"*.png\")\n",
    "#print(new_path)\n",
    "for infile in sorted(glob.glob(new_path)):\n",
    "    #print(infile)\n",
    "    name = os.path.basename(infile)\n",
    "    hero_name = name.split(\".\")[0]\n",
    "    img2= cv2.imread(infile)\n",
    "    template = cv2.resize(img2, (90,50))\n",
    "    # Match\n",
    "    # Lets try and match this\n",
    "    h, w = template.shape[:2]\n",
    "    #gray = cv2.cvtColor(base_img1,cv2.COLOR_BGR2GRAY)\n",
    "    res = cv2.matchTemplate(base_img1, template, cv2.TM_CCOEFF_NORMED)\n",
    "\n",
    "    threshold = 0.8\n",
    "    loc = np.where(res >= threshold) and np.where(res == res.max())\n",
    "    #loc = np.where(res == res.max())\n",
    "    for pt in zip(*loc[::-1]):\n",
    "        det_area = base_img2[pt[1]:pt[1]+h, pt[0]:pt[0]+w]\n",
    "        err = mse(template, det_area)\n",
    "        if err< 4000:\n",
    "            if pt[0] < (ov_wid/2):\n",
    "                radiant.append(hero_name)\n",
    "            else:\n",
    "                dire.append(hero_name)\n",
    "            "
   ]
  },
  {
   "cell_type": "code",
   "execution_count": 80,
   "metadata": {
    "collapsed": false
   },
   "outputs": [
    {
     "name": "stdout",
     "output_type": "stream",
     "text": [
      "(['clinkz_lg', 'phoenix_lg', 'terrorblade_lg'], ['dazzle_lg', 'enigma_lg', 'rubick_lg'])\n"
     ]
    }
   ],
   "source": [
    "print(radiant, dire)"
   ]
  },
  {
   "cell_type": "code",
   "execution_count": null,
   "metadata": {
    "collapsed": true
   },
   "outputs": [],
   "source": []
  }
 ],
 "metadata": {
  "kernelspec": {
   "display_name": "Python [conda root]",
   "language": "python",
   "name": "conda-root-py"
  },
  "language_info": {
   "codemirror_mode": {
    "name": "ipython",
    "version": 2
   },
   "file_extension": ".py",
   "mimetype": "text/x-python",
   "name": "python",
   "nbconvert_exporter": "python",
   "pygments_lexer": "ipython2",
   "version": "2.7.12"
  }
 },
 "nbformat": 4,
 "nbformat_minor": 1
}
